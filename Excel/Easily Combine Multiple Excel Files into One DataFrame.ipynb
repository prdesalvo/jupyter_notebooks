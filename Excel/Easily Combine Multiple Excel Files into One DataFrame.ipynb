{
 "cells": [
  {
   "cell_type": "code",
   "execution_count": null,
   "metadata": {},
   "outputs": [],
   "source": [
    "import pandas as pd\n",
    "import numpy as np\n",
    "import os\n",
    "import glob\n",
    "\n",
    "path = 'your/path'\n",
    "extension = 'xlsx'\n",
    "os.chdir(path)\n",
    "excels = glob.glob('*.{}'.format(extension))\n",
    "\n",
    "combined_excels = [pd.read_excel(i)for i in excels]\n",
    "\n",
    "df = pd.concat(combined_excels)"
   ]
  }
 ],
 "metadata": {
  "kernelspec": {
   "display_name": "Python 3",
   "language": "python",
   "name": "python3"
  },
  "language_info": {
   "codemirror_mode": {
    "name": "ipython",
    "version": 3
   },
   "file_extension": ".py",
   "mimetype": "text/x-python",
   "name": "python",
   "nbconvert_exporter": "python",
   "pygments_lexer": "ipython3",
   "version": "3.7.6"
  }
 },
 "nbformat": 4,
 "nbformat_minor": 4
}
