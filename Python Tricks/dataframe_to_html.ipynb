{
 "cells": [
  {
   "cell_type": "code",
   "execution_count": 24,
   "metadata": {},
   "outputs": [],
   "source": [
    "import pandas as pd\n",
    "import numpy as np\n",
    "import os"
   ]
  },
  {
   "cell_type": "code",
   "execution_count": 25,
   "metadata": {},
   "outputs": [
    {
     "data": {
      "text/html": [
       "<div>\n",
       "<style scoped>\n",
       "    .dataframe tbody tr th:only-of-type {\n",
       "        vertical-align: middle;\n",
       "    }\n",
       "\n",
       "    .dataframe tbody tr th {\n",
       "        vertical-align: top;\n",
       "    }\n",
       "\n",
       "    .dataframe thead th {\n",
       "        text-align: right;\n",
       "    }\n",
       "</style>\n",
       "<table border=\"1\" class=\"dataframe\">\n",
       "  <thead>\n",
       "    <tr style=\"text-align: right;\">\n",
       "      <th></th>\n",
       "      <th>Fruit</th>\n",
       "      <th>Price</th>\n",
       "      <th>Weight</th>\n",
       "    </tr>\n",
       "  </thead>\n",
       "  <tbody>\n",
       "    <tr>\n",
       "      <th>0</th>\n",
       "      <td>apples</td>\n",
       "      <td>0.50</td>\n",
       "      <td>3.2</td>\n",
       "    </tr>\n",
       "    <tr>\n",
       "      <th>1</th>\n",
       "      <td>oranges</td>\n",
       "      <td>1.12</td>\n",
       "      <td>5.6</td>\n",
       "    </tr>\n",
       "    <tr>\n",
       "      <th>2</th>\n",
       "      <td>pears</td>\n",
       "      <td>0.85</td>\n",
       "      <td>2.2</td>\n",
       "    </tr>\n",
       "    <tr>\n",
       "      <th>3</th>\n",
       "      <td>avocados</td>\n",
       "      <td>1.90</td>\n",
       "      <td>3.1</td>\n",
       "    </tr>\n",
       "  </tbody>\n",
       "</table>\n",
       "</div>"
      ],
      "text/plain": [
       "      Fruit  Price  Weight\n",
       "0    apples   0.50     3.2\n",
       "1   oranges   1.12     5.6\n",
       "2     pears   0.85     2.2\n",
       "3  avocados   1.90     3.1"
      ]
     },
     "execution_count": 25,
     "metadata": {},
     "output_type": "execute_result"
    }
   ],
   "source": [
    "df = pd.DataFrame({'Fruit':['apples','oranges','pears','avocados'],'Price':[0.50, 1.12,0.85,1.90], 'Weight': [3.2, 5.6, 2.2, 3.1] })\n",
    "df"
   ]
  },
  {
   "cell_type": "code",
   "execution_count": 26,
   "metadata": {},
   "outputs": [],
   "source": [
    "df.to_html('df.html',border=0)"
   ]
  },
  {
   "cell_type": "code",
   "execution_count": 51,
   "metadata": {},
   "outputs": [
    {
     "name": "stdout",
     "output_type": "stream",
     "text": [
      "0 0\n",
      "0 1\n",
      "0 2\n",
      "1 0\n",
      "1 1\n",
      "1 2\n",
      "2 0\n",
      "2 1\n",
      "2 2\n",
      "3 0\n",
      "3 1\n",
      "3 2\n"
     ]
    }
   ],
   "source": [
    "for i in range(df.shape[0]):\n",
    "    for j in range(df.shape[1]): \n",
    "        print (i,j)"
   ]
  },
  {
   "cell_type": "code",
   "execution_count": 52,
   "metadata": {},
   "outputs": [],
   "source": [
    "#Creating the HTML Table\n",
    "\n",
    "def create_html_table(x):\n",
    "    \n",
    "    row_data = ''\n",
    "\n",
    "    for i in range(x.shape[0]):\n",
    "\n",
    "        for j in range(x.shape[1]):        \n",
    "            if ((i % 2) != 0) & (j == 0): #not an even row and the start of a new row\n",
    "                row_data += '\\n<tr style=\"background-color:#f2f2f2\"> \\n <td class = \"text_column\">'+str(x.iloc[i,j])+'</td>'\n",
    "\n",
    "            elif j == 0: #The first column\n",
    "                row_data += '\\n<tr> \\n <td class = \"text_column\">'+str(x.iloc[i,j])+'</td>'\n",
    "            \n",
    "            elif j == 1: #second column\n",
    "                row_data += '\\n <td class = \"number_column\">'+str(x.iloc[i,j])+'</td>'\n",
    "            \n",
    "            elif j == 2: #third column and our last column in my example\n",
    "                row_data += ' <td class = \"number_column\">'+str(x.iloc[i,j])+'</td> \\n </tr>'\n",
    "\n",
    "            else:\n",
    "                row_data += '\\n <td class = \"number_column\">'+str(x.iloc[i,j])+'</td>'\n",
    "                \n",
    "    return row_data"
   ]
  },
  {
   "cell_type": "code",
   "execution_count": 57,
   "metadata": {},
   "outputs": [
    {
     "data": {
      "text/plain": [
       "(4, 3)"
      ]
     },
     "execution_count": 57,
     "metadata": {},
     "output_type": "execute_result"
    }
   ],
   "source": [
    "df.shape"
   ]
  },
  {
   "cell_type": "code",
   "execution_count": 54,
   "metadata": {},
   "outputs": [],
   "source": [
    "html_table = create_html_table(df)"
   ]
  },
  {
   "cell_type": "code",
   "execution_count": 58,
   "metadata": {},
   "outputs": [],
   "source": [
    "html_file = '''\n",
    "\n",
    "<!DOCTYPE html>\n",
    "<html>\n",
    "<head>\n",
    "<style>\n",
    "table {\n",
    "  border-collapse: collapse;\n",
    "  width: 30%;\n",
    "}\n",
    "\n",
    "th, td {\n",
    "  padding: 6px;\n",
    "  font-family: Helvetica, Arial, Helvetica;\n",
    "  font-size: 12px;\n",
    "}\n",
    "\n",
    "\n",
    ".header {\n",
    "  color: white;\n",
    "  background-color: black;\n",
    "  border-bottom:1pt solid black;\n",
    "}\n",
    "\n",
    ".text_column {\n",
    "  text-align: left;\n",
    "}\n",
    "\n",
    ".number_column {\n",
    "  text-align: right;\n",
    "}\n",
    "\n",
    ".even_row {\n",
    "  background-color: #f2f2f2;\n",
    "}\n",
    "\n",
    "</style>\n",
    "</head>\n",
    "\n",
    "<body>\n",
    "  <h1>HTML Table From a Pandas DataFrame!</h1>\n",
    "\n",
    "<div style=\"overflow-x:auto;\">\n",
    "\n",
    "<table>\n",
    "  <thead>\n",
    "    <tr class = \"header\">\n",
    "      <th class = \"text_column\">'''+df.columns[0]+'''</th>\n",
    "      <th class = \"number_column\">'''+df.columns[1]+'''</th>\n",
    "      <th class = \"number_column\">'''+df.columns[2]+'''</th>\n",
    "    </tr>\n",
    "  </thead>\n",
    "  <tbody>\n",
    "''' +html_table+ '''\n",
    "  </tbody>\n",
    "  </table>\n",
    "\n",
    "</div>\n",
    "\n",
    "</div>\n",
    "</body>\n",
    "</html>\n",
    "\n",
    "'''"
   ]
  },
  {
   "cell_type": "code",
   "execution_count": 59,
   "metadata": {},
   "outputs": [],
   "source": [
    "os.remove('df_from_loop.html')\n",
    "with open('df_from_loop.html', 'a') as f:\n",
    "    f.write(html_file)"
   ]
  },
  {
   "cell_type": "markdown",
   "metadata": {},
   "source": [
    "# Send the HTML Table as an embedded Email"
   ]
  },
  {
   "cell_type": "code",
   "execution_count": 41,
   "metadata": {},
   "outputs": [],
   "source": [
    "import os\n",
    "import smtplib\n",
    "import imghdr\n",
    "from email.message import EmailMessage\n",
    "\n",
    "email = os.environ.get('email_address')\n",
    "password = os.environ.get('gmail_python_app_password')\n",
    "\n",
    "\n",
    "#report_file = open(\"/Users/pauldesalvo/Documents/Kipsu/Company Stats/Company Stats.html\")\n",
    "# report_file = open(\"/Users/pauldesalvo/Documents/Kipsu/Company Stats/table_gmail.html\")\n",
    "# html_file = report_file.read()\n",
    "\n",
    "from email.mime.multipart import MIMEMultipart #pip install email-to\n",
    "from email.mime.text import MIMEText\n",
    "from email.mime.image import MIMEImage\n",
    "from email.mime.application import MIMEApplication\n",
    "\n",
    "\n",
    "contacts = ['pauldesalvo@gmail.com']\n",
    "\n",
    "msg = EmailMessage()\n",
    "msg['Subject'] = 'Cool Table'\n",
    "msg['From'] = email\n",
    "msg['To'] = (\", \").join(contacts)\n",
    "\n",
    "msg.set_content('Cool Table')\n",
    "\n",
    "text_part = msg.iter_parts()\n",
    "text_part\n",
    "msg.add_alternative(html_file, subtype='html')\n",
    "\n",
    "with smtplib.SMTP_SSL('smtp.gmail.com', 465) as smtp:\n",
    "    smtp.login(email, password)\n",
    "    smtp.send_message(msg)"
   ]
  },
  {
   "cell_type": "code",
   "execution_count": null,
   "metadata": {},
   "outputs": [],
   "source": []
  }
 ],
 "metadata": {
  "kernelspec": {
   "display_name": "Python 3",
   "language": "python",
   "name": "python3"
  },
  "language_info": {
   "codemirror_mode": {
    "name": "ipython",
    "version": 3
   },
   "file_extension": ".py",
   "mimetype": "text/x-python",
   "name": "python",
   "nbconvert_exporter": "python",
   "pygments_lexer": "ipython3",
   "version": "3.7.6"
  }
 },
 "nbformat": 4,
 "nbformat_minor": 4
}
