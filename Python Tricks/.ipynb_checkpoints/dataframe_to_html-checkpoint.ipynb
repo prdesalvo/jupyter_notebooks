{
 "cells": [
  {
   "cell_type": "code",
   "execution_count": 22,
   "metadata": {},
   "outputs": [],
   "source": [
    "import pandas as pd\n",
    "import numpy as np\n",
    "import os"
   ]
  },
  {
   "cell_type": "code",
   "execution_count": 39,
   "metadata": {},
   "outputs": [
    {
     "data": {
      "text/html": [
       "<div>\n",
       "<style scoped>\n",
       "    .dataframe tbody tr th:only-of-type {\n",
       "        vertical-align: middle;\n",
       "    }\n",
       "\n",
       "    .dataframe tbody tr th {\n",
       "        vertical-align: top;\n",
       "    }\n",
       "\n",
       "    .dataframe thead th {\n",
       "        text-align: right;\n",
       "    }\n",
       "</style>\n",
       "<table border=\"1\" class=\"dataframe\">\n",
       "  <thead>\n",
       "    <tr style=\"text-align: right;\">\n",
       "      <th></th>\n",
       "      <th>index</th>\n",
       "      <th>A</th>\n",
       "      <th>B</th>\n",
       "      <th>C</th>\n",
       "    </tr>\n",
       "  </thead>\n",
       "  <tbody>\n",
       "    <tr>\n",
       "      <th>0</th>\n",
       "      <td>apples</td>\n",
       "      <td>1</td>\n",
       "      <td>0</td>\n",
       "      <td>0</td>\n",
       "    </tr>\n",
       "    <tr>\n",
       "      <th>1</th>\n",
       "      <td>apples</td>\n",
       "      <td>2</td>\n",
       "      <td>0</td>\n",
       "      <td>2</td>\n",
       "    </tr>\n",
       "    <tr>\n",
       "      <th>2</th>\n",
       "      <td>oranges</td>\n",
       "      <td>2</td>\n",
       "      <td>1</td>\n",
       "      <td>1</td>\n",
       "    </tr>\n",
       "    <tr>\n",
       "      <th>3</th>\n",
       "      <td>oranges</td>\n",
       "      <td>0</td>\n",
       "      <td>1</td>\n",
       "      <td>1</td>\n",
       "    </tr>\n",
       "  </tbody>\n",
       "</table>\n",
       "</div>"
      ],
      "text/plain": [
       "     index  A  B  C\n",
       "0   apples  1  0  0\n",
       "1   apples  2  0  2\n",
       "2  oranges  2  1  1\n",
       "3  oranges  0  1  1"
      ]
     },
     "execution_count": 39,
     "metadata": {},
     "output_type": "execute_result"
    }
   ],
   "source": [
    "df = pd.DataFrame(np.random.randint(3,size=(4, 3)), index = ['apples','apples','oranges','oranges'], columns=['A','B','C']).reset_index()\n",
    "df"
   ]
  },
  {
   "cell_type": "code",
   "execution_count": 40,
   "metadata": {},
   "outputs": [],
   "source": [
    "df.to_html('df.html',border=0)"
   ]
  },
  {
   "cell_type": "code",
   "execution_count": 41,
   "metadata": {},
   "outputs": [
    {
     "name": "stdout",
     "output_type": "stream",
     "text": [
      "0 1\n",
      "0 2\n",
      "0 3\n",
      "0 4\n",
      "1 1\n",
      "1 2\n",
      "1 3\n",
      "1 4\n",
      "2 1\n",
      "2 2\n",
      "2 3\n",
      "2 4\n",
      "3 1\n",
      "3 2\n",
      "3 3\n",
      "3 4\n"
     ]
    }
   ],
   "source": [
    "for i in range(df.shape[0]):\n",
    "    for j in range(df.shape[1]): \n",
    "        print (i,j+1)"
   ]
  },
  {
   "cell_type": "code",
   "execution_count": 42,
   "metadata": {},
   "outputs": [],
   "source": [
    "#Creating the HTML Table\n",
    "\n",
    "def create_html_table(x):\n",
    "    \n",
    "    row_data = ''\n",
    "\n",
    "    for i in range(x.shape[0]):\n",
    "\n",
    "        for j in range(x.shape[1]):        \n",
    "            if ((i % 2) != 0) & (j == 0):\n",
    "                row_data += '\\n<tr style=\"background-color:#f2f2f2\"> \\n <td class = \"text_column\">'+str(x.iloc[i,j])+'</td>'\n",
    "\n",
    "            elif j == 0:\n",
    "                row_data += '\\n<tr> \\n <td class = \"text_column\">'+str(x.iloc[i,j])+'</td>'\n",
    "\n",
    "            elif j == x.shape[1]: #zero index won't match the shape\n",
    "                row_data += ' <td class = \"number_column\">'+str(x.iloc[i,j])+'</td> \\n </tr>'\n",
    "\n",
    "            else:\n",
    "                row_data += '\\n <td class = \"number_column\">'+str(x.iloc[i,j])+'</td>'\n",
    "                \n",
    "    return row_data"
   ]
  },
  {
   "cell_type": "code",
   "execution_count": 43,
   "metadata": {},
   "outputs": [],
   "source": [
    "html_table = create_html_table(df)"
   ]
  },
  {
   "cell_type": "code",
   "execution_count": 46,
   "metadata": {},
   "outputs": [],
   "source": [
    "html_file = '''\n",
    "\n",
    "<!DOCTYPE html>\n",
    "<html>\n",
    "<head>\n",
    "<style>\n",
    "table {\n",
    "  border-collapse: collapse;\n",
    "  width: 100%;\n",
    "}\n",
    "\n",
    "th, td {\n",
    "  padding: 6px;\n",
    "  font-family: Helvetica, Arial, Helvetica;\n",
    "  font-size: 12px;\n",
    "}\n",
    "\n",
    "\n",
    ".header {\n",
    "  color: black;\n",
    "  border-bottom:1pt solid black;\n",
    "}\n",
    "\n",
    ".text_column {\n",
    "  text-align: left;\n",
    "}\n",
    "\n",
    ".number_column {\n",
    "  text-align: right;\n",
    "}\n",
    "\n",
    ".even_row {\n",
    "  background-color: #f2f2f2;\n",
    "}\n",
    "\n",
    "</style>\n",
    "</head>\n",
    "\n",
    "<body>\n",
    "  <h1>Cool Table</h1>\n",
    "\n",
    "<div style=\"overflow-x:auto;\">\n",
    "\n",
    "<table>\n",
    "  <thead>\n",
    "    <tr class = \"header\">\n",
    "      <th class = \"text_column\">Fruit</th>\n",
    "      <th class = \"number_column\">Column 1</th>\n",
    "      <th class = \"number_column\">Column 2</th>\n",
    "      <th class = \"number_column\">Column 3</th>\n",
    "    </tr>\n",
    "  </thead>\n",
    "  <tbody>\n",
    "''' +html_table+ '''\n",
    "  </tbody>\n",
    "  </table>\n",
    "\n",
    "</div>\n",
    "\n",
    "</div>\n",
    "</body>\n",
    "</html>\n",
    "\n",
    "'''"
   ]
  },
  {
   "cell_type": "code",
   "execution_count": 47,
   "metadata": {},
   "outputs": [],
   "source": [
    "os.remove('df_from_loop.html')\n",
    "with open('df_from_loop.html', 'a') as f:\n",
    "    f.write(html_file)"
   ]
  },
  {
   "cell_type": "code",
   "execution_count": null,
   "metadata": {},
   "outputs": [],
   "source": []
  }
 ],
 "metadata": {
  "kernelspec": {
   "display_name": "Python 3",
   "language": "python",
   "name": "python3"
  },
  "language_info": {
   "codemirror_mode": {
    "name": "ipython",
    "version": 3
   },
   "file_extension": ".py",
   "mimetype": "text/x-python",
   "name": "python",
   "nbconvert_exporter": "python",
   "pygments_lexer": "ipython3",
   "version": "3.7.6"
  }
 },
 "nbformat": 4,
 "nbformat_minor": 4
}
