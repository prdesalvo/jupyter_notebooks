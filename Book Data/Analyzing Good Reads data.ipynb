{
 "cells": [
  {
   "cell_type": "markdown",
   "metadata": {},
   "source": [
    "# Analyzing your GoodReads data in Python"
   ]
  },
  {
   "cell_type": "code",
   "execution_count": 1,
   "metadata": {},
   "outputs": [],
   "source": [
    "import requests\n",
    "from bs4 import BeautifulSoup\n",
    "\n",
    "#for charting and analysis, we will use these libraries\n",
    "import datetime\n",
    "import numpy as np\n",
    "import pandas as pd\n",
    "from matplotlib import pyplot as plt\n",
    "import seaborn as sns\n",
    "import os\n"
   ]
  },
  {
   "cell_type": "markdown",
   "metadata": {},
   "source": [
    "In order to analyze your own goodreads data, you'll need to get your API key"
   ]
  },
  {
   "cell_type": "code",
   "execution_count": 16,
   "metadata": {},
   "outputs": [],
   "source": [
    "import pyperclip\n",
    "pyperclip.copy(url)"
   ]
  },
  {
   "cell_type": "code",
   "execution_count": 15,
   "metadata": {},
   "outputs": [],
   "source": [
    "key = os.environ.get('goodreads_key')\n",
    "secret = os.environ.get('goodreads_secret')\n",
    "shelf = 'read'\n",
    "\n",
    "url = 'https://www.goodreads.com/review/list/50215491.xml?key='+key+'&v=2&shelf=read&per_page=200&page=1'"
   ]
  },
  {
   "cell_type": "code",
   "execution_count": 3,
   "metadata": {},
   "outputs": [],
   "source": [
    "source = requests.get(url).text\n",
    "soup = BeautifulSoup(source, 'lxml')"
   ]
  },
  {
   "cell_type": "code",
   "execution_count": 4,
   "metadata": {},
   "outputs": [],
   "source": [
    "all_books = soup.find_all(\"title\")\n",
    "\n",
    "books = []\n",
    "for i in all_books[1:]:\n",
    "    string = i.get_text()\n",
    "    a = string.split(\",\")\n",
    "    books.append(a)\n",
    "\n",
    "#print(books)"
   ]
  },
  {
   "cell_type": "code",
   "execution_count": 5,
   "metadata": {},
   "outputs": [],
   "source": [
    "all_isbns = soup.find_all([\"isbn13\",\"isbn\"])\n",
    "\n",
    "isbn = []\n",
    "for i in all_isbns[1:]:\n",
    "    string = i.get_text()\n",
    "    a = string.split(\",\")\n",
    "    isbn.append(a)\n",
    "\n",
    "#print(isbn)"
   ]
  },
  {
   "cell_type": "code",
   "execution_count": 6,
   "metadata": {},
   "outputs": [],
   "source": [
    "pages = soup.find_all([\"num_pages\"])\n",
    "\n",
    "number_of_pages = []\n",
    "for i in pages[1:]:\n",
    "    string = i.get_text()\n",
    "    a = string.split(\",\")\n",
    "    number_of_pages.append(a)\n",
    "\n",
    "#print(number_of_pages)"
   ]
  },
  {
   "cell_type": "code",
   "execution_count": 7,
   "metadata": {},
   "outputs": [],
   "source": [
    "ids = soup.find_all([\"id\"])\n",
    "\n",
    "id_number = []\n",
    "for i in ids[1:]:\n",
    "    string = i.get_text()\n",
    "    a = string.split(\",\")\n",
    "    id_number.append(a)\n",
    "\n",
    "#print(id_number)"
   ]
  },
  {
   "cell_type": "code",
   "execution_count": 8,
   "metadata": {},
   "outputs": [],
   "source": [
    "dates_updated = soup.find_all([\"read_at\"])\n",
    "\n",
    "read_at = []\n",
    "for i in dates_updated[1:]:\n",
    "    string = i.get_text()\n",
    "    a = string.split(\",\")\n",
    "    read_at.append(a)\n",
    "\n",
    "#print(date_updated)"
   ]
  },
  {
   "cell_type": "code",
   "execution_count": 9,
   "metadata": {},
   "outputs": [],
   "source": [
    "#book_lookup_url = \"https://www.goodreads.com/search/index.xml?key=\"+key+\"&q=\"+\"Why+We+Sleep\""
   ]
  },
  {
   "cell_type": "code",
   "execution_count": 10,
   "metadata": {},
   "outputs": [],
   "source": [
    "#print(book_lookup_url)"
   ]
  },
  {
   "cell_type": "code",
   "execution_count": 11,
   "metadata": {},
   "outputs": [],
   "source": [
    "data = list(zip(books,isbn,number_of_pages,id_number,read_at))"
   ]
  },
  {
   "cell_type": "code",
   "execution_count": 12,
   "metadata": {},
   "outputs": [],
   "source": [
    "df = pd.DataFrame(data, columns=['Book Name','ISBN Number','Number of Pages','ID Number', 'Finished Date'])"
   ]
  },
  {
   "cell_type": "code",
   "execution_count": 13,
   "metadata": {},
   "outputs": [
    {
     "data": {
      "text/html": [
       "<div>\n",
       "<style scoped>\n",
       "    .dataframe tbody tr th:only-of-type {\n",
       "        vertical-align: middle;\n",
       "    }\n",
       "\n",
       "    .dataframe tbody tr th {\n",
       "        vertical-align: top;\n",
       "    }\n",
       "\n",
       "    .dataframe thead th {\n",
       "        text-align: right;\n",
       "    }\n",
       "</style>\n",
       "<table border=\"1\" class=\"dataframe\">\n",
       "  <thead>\n",
       "    <tr style=\"text-align: right;\">\n",
       "      <th></th>\n",
       "      <th>Book Name</th>\n",
       "      <th>ISBN Number</th>\n",
       "      <th>Number of Pages</th>\n",
       "      <th>ID Number</th>\n",
       "      <th>Finished Date</th>\n",
       "    </tr>\n",
       "  </thead>\n",
       "  <tbody>\n",
       "  </tbody>\n",
       "</table>\n",
       "</div>"
      ],
      "text/plain": [
       "Empty DataFrame\n",
       "Columns: [Book Name, ISBN Number, Number of Pages, ID Number, Finished Date]\n",
       "Index: []"
      ]
     },
     "execution_count": 13,
     "metadata": {},
     "output_type": "execute_result"
    }
   ],
   "source": [
    "df"
   ]
  },
  {
   "cell_type": "code",
   "execution_count": 14,
   "metadata": {},
   "outputs": [
    {
     "name": "stdout",
     "output_type": "stream",
     "text": [
      "Book Name          object\n",
      "ISBN Number        object\n",
      "Number of Pages    object\n",
      "ID Number          object\n",
      "Finished Date      object\n",
      "dtype: object\n"
     ]
    }
   ],
   "source": [
    "print(df.dtypes)"
   ]
  },
  {
   "cell_type": "code",
   "execution_count": null,
   "metadata": {},
   "outputs": [],
   "source": []
  },
  {
   "cell_type": "code",
   "execution_count": 15,
   "metadata": {},
   "outputs": [],
   "source": [
    "df['Book Name'] = df['Book Name'].str[0]\n",
    "df['ISBN Number'] = df['ISBN Number'].str[0]\n",
    "df['Number of Pages'] = df['Number of Pages'].str[0]\n",
    "df['ID Number'] = df['ID Number'].str[0]\n",
    "df['Finished Date'] = df['Finished Date'].str[0]"
   ]
  },
  {
   "cell_type": "code",
   "execution_count": 16,
   "metadata": {},
   "outputs": [],
   "source": [
    "df['Number of Pages'] = pd.to_numeric(df['Number of Pages'])"
   ]
  },
  {
   "cell_type": "code",
   "execution_count": 30,
   "metadata": {},
   "outputs": [],
   "source": [
    "df = df[df[\"Finished Date\"] != '']"
   ]
  },
  {
   "cell_type": "code",
   "execution_count": 36,
   "metadata": {},
   "outputs": [
    {
     "data": {
      "text/html": [
       "<div>\n",
       "<style scoped>\n",
       "    .dataframe tbody tr th:only-of-type {\n",
       "        vertical-align: middle;\n",
       "    }\n",
       "\n",
       "    .dataframe tbody tr th {\n",
       "        vertical-align: top;\n",
       "    }\n",
       "\n",
       "    .dataframe thead th {\n",
       "        text-align: right;\n",
       "    }\n",
       "</style>\n",
       "<table border=\"1\" class=\"dataframe\">\n",
       "  <thead>\n",
       "    <tr style=\"text-align: right;\">\n",
       "      <th></th>\n",
       "      <th>Book Name</th>\n",
       "      <th>ISBN Number</th>\n",
       "      <th>Number of Pages</th>\n",
       "      <th>ID Number</th>\n",
       "      <th>Finished Date</th>\n",
       "      <th>new date</th>\n",
       "    </tr>\n",
       "  </thead>\n",
       "  <tbody>\n",
       "    <tr>\n",
       "      <th>0</th>\n",
       "      <td>Why We Sleep: Unlocking the Power of Sleep and...</td>\n",
       "      <td></td>\n",
       "      <td>368.0</td>\n",
       "      <td>53498439</td>\n",
       "      <td>Thu Apr 16 00:00:00 -0700 2020</td>\n",
       "      <td>2020-04-16 00:00:00-07:00</td>\n",
       "    </tr>\n",
       "    <tr>\n",
       "      <th>1</th>\n",
       "      <td>Invisible Man</td>\n",
       "      <td></td>\n",
       "      <td>224.0</td>\n",
       "      <td>3051490</td>\n",
       "      <td>Sun Jun 28 10:06:37 -0700 2020</td>\n",
       "      <td>2020-06-28 10:06:37-07:00</td>\n",
       "    </tr>\n",
       "    <tr>\n",
       "      <th>2</th>\n",
       "      <td>How to Be an Antiracist</td>\n",
       "      <td></td>\n",
       "      <td>NaN</td>\n",
       "      <td>6996712</td>\n",
       "      <td>Wed Jul 01 05:43:52 -0700 2020</td>\n",
       "      <td>2020-07-01 05:43:52-07:00</td>\n",
       "    </tr>\n",
       "    <tr>\n",
       "      <th>3</th>\n",
       "      <td>White Fragility: Why It’s So Hard for White Pe...</td>\n",
       "      <td>1568585284</td>\n",
       "      <td>192.0</td>\n",
       "      <td>3396927448</td>\n",
       "      <td>Thu Jun 11 00:00:00 -0700 2020</td>\n",
       "      <td>2020-06-11 00:00:00-07:00</td>\n",
       "    </tr>\n",
       "    <tr>\n",
       "      <th>4</th>\n",
       "      <td>Lean In: Women</td>\n",
       "      <td>9781568585284</td>\n",
       "      <td>217.0</td>\n",
       "      <td>34466963</td>\n",
       "      <td>Sun Jun 14 16:49:18 -0700 2020</td>\n",
       "      <td>2020-06-14 16:49:18-07:00</td>\n",
       "    </tr>\n",
       "    <tr>\n",
       "      <th>...</th>\n",
       "      <td>...</td>\n",
       "      <td>...</td>\n",
       "      <td>...</td>\n",
       "      <td>...</td>\n",
       "      <td>...</td>\n",
       "      <td>...</td>\n",
       "    </tr>\n",
       "    <tr>\n",
       "      <th>96</th>\n",
       "      <td>Shoe Dog</td>\n",
       "      <td></td>\n",
       "      <td>402.0</td>\n",
       "      <td>45692160</td>\n",
       "      <td>Thu Jan 09 06:09:31 -0800 2020</td>\n",
       "      <td>2020-01-09 06:09:31-08:00</td>\n",
       "    </tr>\n",
       "    <tr>\n",
       "      <th>98</th>\n",
       "      <td>Good to Great: Why Some Companies Make the Lea...</td>\n",
       "      <td>9780812995848</td>\n",
       "      <td>324.0</td>\n",
       "      <td>70454735</td>\n",
       "      <td>Wed Feb 07 20:00:13 -0800 2018</td>\n",
       "      <td>2018-02-07 20:00:13-08:00</td>\n",
       "    </tr>\n",
       "    <tr>\n",
       "      <th>99</th>\n",
       "      <td>Nonviolent Communication: A Language of Life: ...</td>\n",
       "      <td>0439023483</td>\n",
       "      <td>NaN</td>\n",
       "      <td>3211330912</td>\n",
       "      <td>Tue Dec 05 20:08:26 -0800 2017</td>\n",
       "      <td>2017-12-05 20:08:26-08:00</td>\n",
       "    </tr>\n",
       "    <tr>\n",
       "      <th>100</th>\n",
       "      <td>The ONE Thing: The Surprisingly Simple Truth B...</td>\n",
       "      <td>9780439023481</td>\n",
       "      <td>NaN</td>\n",
       "      <td>7260188</td>\n",
       "      <td>Sun Jan 29 00:00:00 -0800 2017</td>\n",
       "      <td>2017-01-29 00:00:00-08:00</td>\n",
       "    </tr>\n",
       "    <tr>\n",
       "      <th>101</th>\n",
       "      <td>Steve Jobs</td>\n",
       "      <td></td>\n",
       "      <td>656.0</td>\n",
       "      <td>153394</td>\n",
       "      <td>Sat Aug 25 13:14:40 -0700 2018</td>\n",
       "      <td>2018-08-25 13:14:40-07:00</td>\n",
       "    </tr>\n",
       "  </tbody>\n",
       "</table>\n",
       "<p>64 rows × 6 columns</p>\n",
       "</div>"
      ],
      "text/plain": [
       "                                             Book Name    ISBN Number  \\\n",
       "0    Why We Sleep: Unlocking the Power of Sleep and...                  \n",
       "1                                        Invisible Man                  \n",
       "2                              How to Be an Antiracist                  \n",
       "3    White Fragility: Why It’s So Hard for White Pe...     1568585284   \n",
       "4                                       Lean In: Women  9781568585284   \n",
       "..                                                 ...            ...   \n",
       "96                                            Shoe Dog                  \n",
       "98   Good to Great: Why Some Companies Make the Lea...  9780812995848   \n",
       "99   Nonviolent Communication: A Language of Life: ...     0439023483   \n",
       "100  The ONE Thing: The Surprisingly Simple Truth B...  9780439023481   \n",
       "101                                         Steve Jobs                  \n",
       "\n",
       "     Number of Pages   ID Number                   Finished Date  \\\n",
       "0              368.0    53498439  Thu Apr 16 00:00:00 -0700 2020   \n",
       "1              224.0     3051490  Sun Jun 28 10:06:37 -0700 2020   \n",
       "2                NaN     6996712  Wed Jul 01 05:43:52 -0700 2020   \n",
       "3              192.0  3396927448  Thu Jun 11 00:00:00 -0700 2020   \n",
       "4              217.0    34466963  Sun Jun 14 16:49:18 -0700 2020   \n",
       "..               ...         ...                             ...   \n",
       "96             402.0    45692160  Thu Jan 09 06:09:31 -0800 2020   \n",
       "98             324.0    70454735  Wed Feb 07 20:00:13 -0800 2018   \n",
       "99               NaN  3211330912  Tue Dec 05 20:08:26 -0800 2017   \n",
       "100              NaN     7260188  Sun Jan 29 00:00:00 -0800 2017   \n",
       "101            656.0      153394  Sat Aug 25 13:14:40 -0700 2018   \n",
       "\n",
       "                      new date  \n",
       "0    2020-04-16 00:00:00-07:00  \n",
       "1    2020-06-28 10:06:37-07:00  \n",
       "2    2020-07-01 05:43:52-07:00  \n",
       "3    2020-06-11 00:00:00-07:00  \n",
       "4    2020-06-14 16:49:18-07:00  \n",
       "..                         ...  \n",
       "96   2020-01-09 06:09:31-08:00  \n",
       "98   2018-02-07 20:00:13-08:00  \n",
       "99   2017-12-05 20:08:26-08:00  \n",
       "100  2017-01-29 00:00:00-08:00  \n",
       "101  2018-08-25 13:14:40-07:00  \n",
       "\n",
       "[64 rows x 6 columns]"
      ]
     },
     "execution_count": 36,
     "metadata": {},
     "output_type": "execute_result"
    }
   ],
   "source": [
    "df"
   ]
  },
  {
   "cell_type": "code",
   "execution_count": 18,
   "metadata": {},
   "outputs": [],
   "source": [
    "#converting date column to a date\n",
    "#df['Date Updated'] = pd.to_datetime(df['Date Updated'], format = '%a %b %d %H:%M:%S %z %Y')\n",
    "#df['new date'] = df['Date Updated'].dt.strftime('%a %b %d %H:%M:%S %z %Y')\n"
   ]
  },
  {
   "cell_type": "code",
   "execution_count": 19,
   "metadata": {},
   "outputs": [
    {
     "data": {
      "text/plain": [
       "Book Name           object\n",
       "ISBN Number         object\n",
       "Number of Pages    float64\n",
       "ID Number           object\n",
       "Finished Date       object\n",
       "dtype: object"
      ]
     },
     "execution_count": 19,
     "metadata": {},
     "output_type": "execute_result"
    }
   ],
   "source": [
    "df.dtypes"
   ]
  },
  {
   "cell_type": "code",
   "execution_count": null,
   "metadata": {},
   "outputs": [],
   "source": []
  },
  {
   "cell_type": "code",
   "execution_count": 37,
   "metadata": {},
   "outputs": [
    {
     "name": "stderr",
     "output_type": "stream",
     "text": [
      "/Users/pauldesalvo/opt/anaconda3/lib/python3.7/site-packages/ipykernel_launcher.py:5: SettingWithCopyWarning: \n",
      "A value is trying to be set on a copy of a slice from a DataFrame.\n",
      "Try using .loc[row_indexer,col_indexer] = value instead\n",
      "\n",
      "See the caveats in the documentation: https://pandas.pydata.org/pandas-docs/stable/user_guide/indexing.html#returning-a-view-versus-a-copy\n",
      "  \"\"\"\n",
      "/Users/pauldesalvo/opt/anaconda3/lib/python3.7/site-packages/ipykernel_launcher.py:6: SettingWithCopyWarning: \n",
      "A value is trying to be set on a copy of a slice from a DataFrame.\n",
      "Try using .loc[row_indexer,col_indexer] = value instead\n",
      "\n",
      "See the caveats in the documentation: https://pandas.pydata.org/pandas-docs/stable/user_guide/indexing.html#returning-a-view-versus-a-copy\n",
      "  \n"
     ]
    }
   ],
   "source": [
    "from datetime import datetime\n",
    "df['new date']= df['Finished Date'].apply(lambda x: datetime.strptime(x,'%a %b %d %H:%M:%S %z %Y'))\n",
    "#df['new date'] = df['new date'].datetime.normalize()\n",
    "\n",
    "df['year']= df['new date'].apply(lambda x: x.year)\n",
    "df['month']= df['new date'].apply(lambda x: x.month)\n"
   ]
  },
  {
   "cell_type": "code",
   "execution_count": 38,
   "metadata": {},
   "outputs": [
    {
     "data": {
      "text/plain": [
       "Book Name           object\n",
       "ISBN Number         object\n",
       "Number of Pages    float64\n",
       "ID Number           object\n",
       "Finished Date       object\n",
       "new date            object\n",
       "year                 int64\n",
       "month                int64\n",
       "dtype: object"
      ]
     },
     "execution_count": 38,
     "metadata": {},
     "output_type": "execute_result"
    }
   ],
   "source": [
    "df.dtypes"
   ]
  },
  {
   "cell_type": "code",
   "execution_count": 43,
   "metadata": {},
   "outputs": [
    {
     "ename": "TypeError",
     "evalue": "count() takes exactly one argument (0 given)",
     "output_type": "error",
     "traceback": [
      "\u001b[0;31m---------------------------------------------------------------------------\u001b[0m",
      "\u001b[0;31mTypeError\u001b[0m                                 Traceback (most recent call last)",
      "\u001b[0;32m<ipython-input-43-1a11a18327ec>\u001b[0m in \u001b[0;36m<module>\u001b[0;34m\u001b[0m\n\u001b[0;32m----> 1\u001b[0;31m \u001b[0mgrouped_df\u001b[0m \u001b[0;34m=\u001b[0m \u001b[0mdf\u001b[0m\u001b[0;34m.\u001b[0m\u001b[0mgroupby\u001b[0m\u001b[0;34m(\u001b[0m\u001b[0;34m[\u001b[0m\u001b[0;34m'Year'\u001b[0m\u001b[0;34m]\u001b[0m\u001b[0;34m.\u001b[0m\u001b[0mcount\u001b[0m\u001b[0;34m(\u001b[0m\u001b[0;34m)\u001b[0m\u001b[0;34m)\u001b[0m\u001b[0;34m\u001b[0m\u001b[0;34m\u001b[0m\u001b[0m\n\u001b[0m",
      "\u001b[0;31mTypeError\u001b[0m: count() takes exactly one argument (0 given)"
     ]
    }
   ],
   "source": [
    "grouped_df = df.groupby(['Year'].count())"
   ]
  },
  {
   "cell_type": "code",
   "execution_count": 21,
   "metadata": {},
   "outputs": [
    {
     "ename": "NameError",
     "evalue": "name 'grouped_df' is not defined",
     "output_type": "error",
     "traceback": [
      "\u001b[0;31m---------------------------------------------------------------------------\u001b[0m",
      "\u001b[0;31mNameError\u001b[0m                                 Traceback (most recent call last)",
      "\u001b[0;32m<ipython-input-21-dc3d1b72d2e4>\u001b[0m in \u001b[0;36m<module>\u001b[0;34m\u001b[0m\n\u001b[0;32m----> 1\u001b[0;31m \u001b[0mgrouped_df\u001b[0m \u001b[0;34m=\u001b[0m \u001b[0mgrouped_df\u001b[0m\u001b[0;34m.\u001b[0m\u001b[0mreset_index\u001b[0m\u001b[0;34m(\u001b[0m\u001b[0;34m)\u001b[0m\u001b[0;34m\u001b[0m\u001b[0;34m\u001b[0m\u001b[0m\n\u001b[0m",
      "\u001b[0;31mNameError\u001b[0m: name 'grouped_df' is not defined"
     ]
    }
   ],
   "source": [
    "grouped_df = grouped_df.reset_index()"
   ]
  },
  {
   "cell_type": "code",
   "execution_count": null,
   "metadata": {},
   "outputs": [],
   "source": [
    "grouped_df"
   ]
  },
  {
   "cell_type": "code",
   "execution_count": null,
   "metadata": {},
   "outputs": [],
   "source": [
    "sns.set()  # use Seaborn styles\n",
    "sns.set_style(\"whitegrid\")\n",
    "sns.set_context(\"poster\", font_scale = 1)\n",
    "f, ax = plt.subplots(figsize=(20,9))\n",
    "\n",
    "sns.barplot(data = grouped_df, x = 'Month Year', y='Book Name')"
   ]
  },
  {
   "cell_type": "code",
   "execution_count": null,
   "metadata": {},
   "outputs": [],
   "source": [
    "import calendar\n",
    "df['days_in_month'] = df.apply(lambda x: calendar.monthrange(x['year'],x['month'])[1],axis=1)\n",
    "df['Month Year'] = pd.to_datetime(dict(year=df.year, month=df.month, day=df.days_in_month))"
   ]
  },
  {
   "cell_type": "code",
   "execution_count": null,
   "metadata": {},
   "outputs": [],
   "source": [
    "df"
   ]
  },
  {
   "cell_type": "markdown",
   "metadata": {},
   "source": [
    "# Missing Data"
   ]
  },
  {
   "cell_type": "code",
   "execution_count": null,
   "metadata": {},
   "outputs": [],
   "source": [
    "is_NaN = df.isnull()\n",
    "row_has_NaN = is_NaN.any(axis=1)\n",
    "rows_with_NaN = df[row_has_NaN]"
   ]
  },
  {
   "cell_type": "code",
   "execution_count": null,
   "metadata": {},
   "outputs": [],
   "source": [
    "rows_with_NaN.to_csv('books_with_no_page_numbers.csv')"
   ]
  },
  {
   "cell_type": "markdown",
   "metadata": {},
   "source": [
    "# Using the RSS Feed"
   ]
  },
  {
   "cell_type": "code",
   "execution_count": null,
   "metadata": {},
   "outputs": [],
   "source": [
    "import feedparser\n",
    "import pandas as pd\n",
    "\n",
    "rawrss = ['https://www.goodreads.com/review/list_rss/50215491?key=Z9tus9vPUk2armpmpWSrLTLXeVEPvWcY0lzNJGZ8MrRypwfj&shelf=%23ALL%23']\n",
    "\n",
    "feeds = [] # list of feed objects\n",
    "for url in rawrss:\n",
    "    feeds.append(feedparser.parse(url))\n",
    "\n",
    "posts = [] # list of posts [(title1, link1, summary1), (title2, link2, summary2) ... ]\n",
    "for feed in feeds:\n",
    "    for post in feed.entries:\n",
    "        posts.append((post.title, post.link, post.summary))\n",
    "\n",
    "rss_df = pd.DataFrame(posts, columns=['title', 'link', 'summary']) "
   ]
  },
  {
   "cell_type": "code",
   "execution_count": null,
   "metadata": {},
   "outputs": [],
   "source": [
    "rss_df['summary'][0]"
   ]
  },
  {
   "cell_type": "code",
   "execution_count": null,
   "metadata": {},
   "outputs": [],
   "source": [
    "#test = rss_df.summary.str.split('<br/>\\n',expand=True)\n",
    "rss_df[['Link','Author','Name','Average Rating','book published','rating','read_at','date_added','shelves','review']] = rss_df.summary.str.split('<br/>\\n',expand=True)"
   ]
  },
  {
   "cell_type": "code",
   "execution_count": null,
   "metadata": {},
   "outputs": [],
   "source": [
    "rss_df"
   ]
  },
  {
   "cell_type": "code",
   "execution_count": null,
   "metadata": {},
   "outputs": [],
   "source": [
    "rss_df[\"read_at\"]= rss_df[\"read_at\"].replace(\"read at:\", \"\", regex = True).str.lstrip().str.rstrip()"
   ]
  },
  {
   "cell_type": "code",
   "execution_count": null,
   "metadata": {},
   "outputs": [],
   "source": [
    "rss_df.dtypes"
   ]
  },
  {
   "cell_type": "code",
   "execution_count": null,
   "metadata": {
    "scrolled": true
   },
   "outputs": [],
   "source": [
    "print(rss_df['read_at'][0])"
   ]
  },
  {
   "cell_type": "code",
   "execution_count": null,
   "metadata": {},
   "outputs": [],
   "source": [
    "rss_df"
   ]
  },
  {
   "cell_type": "code",
   "execution_count": null,
   "metadata": {},
   "outputs": [],
   "source": []
  }
 ],
 "metadata": {
  "kernelspec": {
   "display_name": "Python 3",
   "language": "python",
   "name": "python3"
  },
  "language_info": {
   "codemirror_mode": {
    "name": "ipython",
    "version": 3
   },
   "file_extension": ".py",
   "mimetype": "text/x-python",
   "name": "python",
   "nbconvert_exporter": "python",
   "pygments_lexer": "ipython3",
   "version": "3.7.6"
  }
 },
 "nbformat": 4,
 "nbformat_minor": 4
}
